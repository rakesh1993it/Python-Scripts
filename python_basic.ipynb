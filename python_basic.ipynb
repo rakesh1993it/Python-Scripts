{
 "cells": [
  {
   "cell_type": "markdown",
   "metadata": {},
   "source": [
    "# Print Two number"
   ]
  },
  {
   "cell_type": "code",
   "execution_count": 2,
   "metadata": {},
   "outputs": [
    {
     "name": "stdout",
     "output_type": "stream",
     "text": [
      "5\n",
      "7\n"
     ]
    }
   ],
   "source": [
    "a=5\n",
    "b=7\n",
    "print (a)\n",
    "print (b)"
   ]
  },
  {
   "cell_type": "markdown",
   "metadata": {},
   "source": [
    "# swap two number without using thrid variable"
   ]
  },
  {
   "cell_type": "code",
   "execution_count": 5,
   "metadata": {},
   "outputs": [
    {
     "name": "stdout",
     "output_type": "stream",
     "text": [
      "7\n",
      "5\n"
     ]
    }
   ],
   "source": [
    "a,b = b, a\n",
    "print(a)\n",
    "print(b)"
   ]
  },
  {
   "cell_type": "markdown",
   "metadata": {},
   "source": [
    "# Condition in python\n"
   ]
  },
  {
   "cell_type": "code",
   "execution_count": 14,
   "metadata": {},
   "outputs": [
    {
     "name": "stdout",
     "output_type": "stream",
     "text": [
      "b is divisible by a\n"
     ]
    }
   ],
   "source": [
    "a=3\n",
    "b=9\n",
    "if b%a==0:\n",
    "    print(\"b is divisible by a\")\n",
    "elif b+1==10:\n",
    "    print(\"Increment in b produce 10\")\n",
    "else:\n",
    "    print(\"you r in else statement\")"
   ]
  },
  {
   "cell_type": "code",
   "execution_count": null,
   "metadata": {
    "collapsed": true
   },
   "outputs": [],
   "source": []
  },
  {
   "cell_type": "code",
   "execution_count": 17,
   "metadata": {},
   "outputs": [
    {
     "name": "stdout",
     "output_type": "stream",
     "text": [
      "a  is divisible by b\n"
     ]
    }
   ],
   "source": [
    "def checkDivisibility(a, b):\n",
    "    if a%b ==0:\n",
    "        print(\"a  is divisible by b\")\n",
    "    else:   \n",
    "        print(\"a is not divisible by b\")\n",
    "        \n",
    "checkDivisibility(4,2)"
   ]
  },
  {
   "cell_type": "code",
   "execution_count": null,
   "metadata": {
    "collapsed": true
   },
   "outputs": [],
   "source": []
  },
  {
   "cell_type": "code",
   "execution_count": 18,
   "metadata": {},
   "outputs": [
    {
     "name": "stdout",
     "output_type": "stream",
     "text": [
      "This is a String\n"
     ]
    }
   ],
   "source": [
    "a = \"This is a String\"\n",
    "print (a)"
   ]
  },
  {
   "cell_type": "markdown",
   "metadata": {},
   "source": [
    "# List in Python"
   ]
  },
  {
   "cell_type": "code",
   "execution_count": 23,
   "metadata": {},
   "outputs": [
    {
     "name": "stdout",
     "output_type": "stream",
     "text": [
      "[1, 'a', 'string', 3]\n",
      "[1, 'a', 'string', 3, 6]\n",
      "[1, 'a', 'string', 3]\n",
      "a\n"
     ]
    }
   ],
   "source": [
    "L = [1, \"a\", \"string\", 1+2]\n",
    "print(L)\n",
    "L.append(6)\n",
    "print (L)\n",
    "L.pop()\n",
    "print(L)\n",
    "print (L[1])"
   ]
  },
  {
   "cell_type": "markdown",
   "metadata": {},
   "source": [
    "Tuples:\n",
    "    A tuples is a sequence of immutable python object. Tuples are just like lists with the exception that tuples\n",
    "    cannot be changed once decalred. Tuples are faster than lists"
   ]
  },
  {
   "cell_type": "code",
   "execution_count": 24,
   "metadata": {},
   "outputs": [
    {
     "name": "stdout",
     "output_type": "stream",
     "text": [
      "(1, 'a', 'string', 3)\n",
      "a\n"
     ]
    }
   ],
   "source": [
    "tup = (1, \"a\", \"string\", 1+2)\n",
    "print (tup)\n",
    "print (tup[1])\n"
   ]
  },
  {
   "cell_type": "code",
   "execution_count": null,
   "metadata": {
    "collapsed": true
   },
   "outputs": [],
   "source": []
  },
  {
   "cell_type": "code",
   "execution_count": 30,
   "metadata": {},
   "outputs": [
    {
     "name": "stdout",
     "output_type": "stream",
     "text": [
      "2\n",
      "3\n",
      "4\n",
      "5\n",
      "6\n",
      "7\n",
      "8\n",
      "9\n",
      "10\n"
     ]
    }
   ],
   "source": [
    "i = 1\n",
    "while(i<10):\n",
    "    i +=1\n",
    "    print (i),"
   ]
  },
  {
   "cell_type": "markdown",
   "metadata": {
    "collapsed": true
   },
   "source": [
    "# Take a string and split them"
   ]
  },
  {
   "cell_type": "code",
   "execution_count": 31,
   "metadata": {},
   "outputs": [
    {
     "name": "stdout",
     "output_type": "stream",
     "text": [
      "H\n",
      "e\n",
      "l\n",
      "l\n",
      "o\n",
      " \n",
      "W\n",
      "o\n",
      "r\n",
      "l\n",
      "d\n"
     ]
    }
   ],
   "source": [
    "s = \"Hello World\"\n",
    "for i in s:\n",
    "    print(i)"
   ]
  },
  {
   "cell_type": "code",
   "execution_count": null,
   "metadata": {
    "collapsed": true
   },
   "outputs": [],
   "source": []
  },
  {
   "cell_type": "markdown",
   "metadata": {},
   "source": [
    "# What is the msximum possible value of sn integer in python.?\n"
   ]
  },
  {
   "cell_type": "code",
   "execution_count": 33,
   "metadata": {},
   "outputs": [
    {
     "name": "stdout",
     "output_type": "stream",
     "text": [
      "1000000000000000000000000001\n"
     ]
    }
   ],
   "source": [
    "x =  1000000000000000000000000000\n",
    "x =x +1\n",
    "print(x)"
   ]
  },
  {
   "cell_type": "code",
   "execution_count": 34,
   "metadata": {},
   "outputs": [
    {
     "name": "stdout",
     "output_type": "stream",
     "text": [
      "<class 'int'>\n"
     ]
    }
   ],
   "source": [
    "x = 10\n",
    "print(type(x))"
   ]
  },
  {
   "cell_type": "markdown",
   "metadata": {},
   "source": [
    "# Transpose a matrix in single line in python"
   ]
  },
  {
   "cell_type": "code",
   "execution_count": 40,
   "metadata": {},
   "outputs": [
    {
     "name": "stdout",
     "output_type": "stream",
     "text": [
      "[1, 2]\n",
      "[3, 4]\n",
      "[5, 6]\n",
      "\n",
      "\n",
      "[1, 3, 5]\n",
      "[2, 4, 6]\n"
     ]
    }
   ],
   "source": [
    "m = [[1,2],[3,4],[5,6]]\n",
    "for row in m:\n",
    "    print(row)\n",
    "\n",
    "print(\"\\n\")\n",
    "rez = [[m[j][i] for j in range(len(m))] for i in range(len(m[0]))]\n",
    "for row in rez:\n",
    "    print(row)"
   ]
  },
  {
   "cell_type": "markdown",
   "metadata": {
    "collapsed": true
   },
   "source": [
    "# Create a matrix and transform the matrix"
   ]
  },
  {
   "cell_type": "code",
   "execution_count": 44,
   "metadata": {},
   "outputs": [
    {
     "name": "stdout",
     "output_type": "stream",
     "text": [
      "(1, 2, 3)\n",
      "(4, 5, 6)\n",
      "(7, 8, 9)\n",
      "(10, 11, 12)\n",
      "\n",
      "\n",
      "(1, 4, 7, 10)\n",
      "(2, 5, 8, 11)\n",
      "(3, 6, 9, 12)\n"
     ]
    }
   ],
   "source": [
    "matrix = [(1,2,3), (4,5,6),(7,8,9),(10,11,12)]\n",
    "for row in matrix:\n",
    "    print(row)\n",
    "    \n",
    "print(\"\\n\")\n",
    "t_matrix = zip(*matrix)\n",
    "for row in t_matrix:\n",
    "    print(row)"
   ]
  },
  {
   "cell_type": "markdown",
   "metadata": {
    "collapsed": true
   },
   "source": [
    "# Create a matrix and transpose it using numpy"
   ]
  },
  {
   "cell_type": "code",
   "execution_count": 47,
   "metadata": {},
   "outputs": [
    {
     "name": "stdout",
     "output_type": "stream",
     "text": [
      "[[1, 2, 3], [4, 5, 6], [7, 8, 9]]\n",
      "\n",
      "\n",
      "[[1 4 7]\n",
      " [2 5 8]\n",
      " [3 6 9]]\n"
     ]
    }
   ],
   "source": [
    "import numpy\n",
    "matrix = [[1,2,3],[4,5,6], [7,8,9]]\n",
    "print(matrix)\n",
    "print(\"\\n\")\n",
    "print(numpy.transpose(matrix))"
   ]
  },
  {
   "cell_type": "markdown",
   "metadata": {},
   "source": [
    "# Global and Local variables in python"
   ]
  },
  {
   "cell_type": "code",
   "execution_count": 48,
   "metadata": {},
   "outputs": [
    {
     "name": "stdout",
     "output_type": "stream",
     "text": [
      "I luv u python\n"
     ]
    }
   ],
   "source": [
    "\n",
    "# this function uses global variable s.\n",
    "\n",
    "def f():\n",
    "    print (s)\n",
    "    \n",
    "\n",
    "# global scope.\n",
    "s = \"I luv u python\"\n",
    "f()"
   ]
  },
  {
   "cell_type": "code",
   "execution_count": 52,
   "metadata": {},
   "outputs": [
    {
     "name": "stdout",
     "output_type": "stream",
     "text": [
      "I luv python\n",
      "I luv python\n"
     ]
    }
   ],
   "source": [
    "\n",
    "def f():\n",
    "    #s = \"Me too\"\n",
    "    print(s)\n",
    "    \n",
    "# global Scope.\n",
    "s = \"I luv python\"\n",
    "f()\n",
    "print(s)"
   ]
  },
  {
   "cell_type": "code",
   "execution_count": 51,
   "metadata": {},
   "outputs": [
    {
     "name": "stdout",
     "output_type": "stream",
     "text": [
      "Me too\n",
      "I luv python\n"
     ]
    }
   ],
   "source": [
    "def f():\n",
    "    s = \"Me too\"\n",
    "    print(s)\n",
    "    \n",
    "# global Scope.\n",
    "s = \"I luv python\"\n",
    "f()\n",
    "print(s)"
   ]
  },
  {
   "cell_type": "code",
   "execution_count": null,
   "metadata": {
    "collapsed": true
   },
   "outputs": [],
   "source": []
  },
  {
   "cell_type": "code",
   "execution_count": 53,
   "metadata": {},
   "outputs": [
    {
     "name": "stdout",
     "output_type": "stream",
     "text": [
      "Python is great\n",
      "Look for GeeksforGeeks python Section\n",
      "Look for GeeksforGeeks python Section\n"
     ]
    }
   ],
   "source": [
    "\n",
    "# This is function modifies  global variable 's'.\n",
    "\n",
    "def f():\n",
    "    global s\n",
    "    print(s)\n",
    "    s = \"Look for GeeksforGeeks python Section\"\n",
    "    print(s)\n",
    "    \n",
    "#Global Scope.\n",
    "s = \"Python is great\"\n",
    "f()\n",
    "print(s)"
   ]
  },
  {
   "cell_type": "code",
   "execution_count": null,
   "metadata": {
    "collapsed": true
   },
   "outputs": [],
   "source": []
  },
  {
   "cell_type": "code",
   "execution_count": 54,
   "metadata": {},
   "outputs": [
    {
     "name": "stdout",
     "output_type": "stream",
     "text": [
      "global: 1\n",
      "Inside f(): 1\n",
      "Global: 1\n",
      "Inside g(): 2\n",
      "global: 1\n",
      "Inside h(): 3\n",
      "global: 3\n"
     ]
    }
   ],
   "source": [
    "a = 1\n",
    "\n",
    "# Uses global because there is no local 'a'\n",
    "\n",
    "def f():\n",
    "    print (\"Inside f():\", a)\n",
    "    \n",
    "# Variable 'a' is redefine as a local.\n",
    "\n",
    "def g():\n",
    "    a = 2\n",
    "    print(\"Inside g():\", a)\n",
    "    \n",
    "# Use global keyword to modify global 'a'.\n",
    "\n",
    "def h():\n",
    "    global a\n",
    "    a =3\n",
    "    print(\"Inside h():\", a)\n",
    "    \n",
    "# Global scope\n",
    "print (\"global:\",a)\n",
    "f()\n",
    "print(\"Global:\", a)\n",
    "g()\n",
    "print(\"global:\", a)\n",
    "h()\n",
    "print(\"global:\", a)"
   ]
  },
  {
   "cell_type": "markdown",
   "metadata": {},
   "source": [
    "# Create  a function where we can print Employee name, age, sex and salary."
   ]
  },
  {
   "cell_type": "code",
   "execution_count": 4,
   "metadata": {},
   "outputs": [
    {
     "name": "stdout",
     "output_type": "stream",
     "text": [
      "Name:  Somnath\n",
      "Age:  24\n",
      "Sex:  Male\n",
      "Salary:  40000\n"
     ]
    }
   ],
   "source": [
    "def printinfo(name, age,sex, salary):\n",
    "    print(\"Name: \", name)\n",
    "    print(\"Age: \", age)\n",
    "    print(\"Sex: \", sex)\n",
    "    print(\"Salary: \", salary)\n",
    "    \n",
    "\n",
    "printinfo(name=\"Somnath\", age=24, sex=\"Male\", salary=40000)"
   ]
  },
  {
   "cell_type": "code",
   "execution_count": null,
   "metadata": {
    "collapsed": true
   },
   "outputs": [],
   "source": []
  }
 ],
 "metadata": {
  "kernelspec": {
   "display_name": "Python 3",
   "language": "python",
   "name": "python3"
  },
  "language_info": {
   "codemirror_mode": {
    "name": "ipython",
    "version": 3
   },
   "file_extension": ".py",
   "mimetype": "text/x-python",
   "name": "python",
   "nbconvert_exporter": "python",
   "pygments_lexer": "ipython3",
   "version": "3.6.1"
  }
 },
 "nbformat": 4,
 "nbformat_minor": 2
}
